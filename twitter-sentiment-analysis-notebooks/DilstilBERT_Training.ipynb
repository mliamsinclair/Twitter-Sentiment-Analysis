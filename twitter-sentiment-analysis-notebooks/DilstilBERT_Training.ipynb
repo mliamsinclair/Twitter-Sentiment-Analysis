{
  "cells": [
    {
      "cell_type": "code",
      "execution_count": null,
      "metadata": {
        "id": "NZWR2USBC5dN"
      },
      "outputs": [],
      "source": [
        "# install libraries\n",
        "!pip install -U transformers datasets accelerate\n",
        "!apt-get install git-lfs"
      ]
    },
    {
      "cell_type": "code",
      "source": [
        "import os\n",
        "# ** note **\n",
        "# ** mount drive before running **\n",
        "output_dir = \"/content/drive/My Drive/Colab Notebooks/TrainingResults\"\n",
        "os.makedirs(output_dir, exist_ok=True)\n",
        "output_dir = \"/content/drive/My Drive/Colab Notebooks/SADistilBERTModel\"\n",
        "os.makedirs(output_dir, exist_ok=True)"
      ],
      "metadata": {
        "id": "zfvPTcvGtiyc"
      },
      "execution_count": null,
      "outputs": []
    },
    {
      "cell_type": "code",
      "execution_count": null,
      "metadata": {
        "id": "0EcShWPwkS1c"
      },
      "outputs": [],
      "source": [
        "# import libraries\n",
        "import torch\n",
        "from datasets import load_dataset, DatasetDict, Dataset\n",
        "import pandas as pd\n",
        "from transformers import AutoTokenizer, AutoModelForSequenceClassification, TrainingArguments, Trainer, DataCollatorWithPadding, pipeline\n",
        "import numpy as np\n",
        "# check if cuda is available for GPU acceleration\n",
        "torch.cuda.is_available()"
      ]
    },
    {
      "cell_type": "code",
      "execution_count": null,
      "metadata": {
        "id": "zXW1YvS-Er2m"
      },
      "outputs": [],
      "source": [
        "# load the dataset from a CSV file\n",
        "df = pd.read_csv('/content/drive/MyDrive/SeniorPortfolio/sentiments.csv', encoding='ISO-8859-1', header=None)\n",
        "\n",
        "# rename columns according to the dataset structure\n",
        "df.columns = ['target', 'ids', 'date', 'flag', 'user', 'text']\n",
        "\n",
        "# map target to {0: negative, 4: positive}; adjust if needed to handle neutral tweets\n",
        "df['target'] = df['target'].map({0: 0, 4: 1})\n",
        "\n",
        "# convert the pandas dataframe to a Hugging Face dataset for compatibility\n",
        "dataset = Dataset.from_pandas(df)\n",
        "\n",
        "# split the dataset into training and testing sets\n",
        "train_test_split = dataset.train_test_split(test_size=0.2)\n",
        "dataset = DatasetDict({\n",
        "    'train': train_test_split['train'],\n",
        "    'test': train_test_split['test']\n",
        "})"
      ]
    },
    {
      "cell_type": "code",
      "execution_count": null,
      "metadata": {
        "id": "HDWLXS6mE06Q"
      },
      "outputs": [],
      "source": [
        "# load the tokenizer\n",
        "tokenizer = AutoTokenizer.from_pretrained(\"distilbert-base-uncased\")\n",
        "\n",
        "# define the preprocessing function\n",
        "def preprocess_function(examples):\n",
        "    # Tokenize the texts and include truncation and padding\n",
        "    tokenized_inputs = tokenizer(examples['text'], truncation=True, padding=True, max_length=128)\n",
        "\n",
        "    # ensure 'labels' are included in the returned dictionary and correctly mapped from the dataset\n",
        "    tokenized_inputs['labels'] = [label for label in examples['target']]\n",
        "\n",
        "    return tokenized_inputs\n",
        "\n",
        "# apply the preprocessing function to both training and testing datasets\n",
        "tokenized_datasets = dataset.map(preprocess_function, batched=True)"
      ]
    },
    {
      "cell_type": "code",
      "execution_count": null,
      "metadata": {
        "id": "GPkNJ3YqE_m2"
      },
      "outputs": [],
      "source": [
        "# initialize the model for sequence classification with 2 labels (positive and negative)\n",
        "model = AutoModelForSequenceClassification.from_pretrained(\"distilbert-base-uncased\", num_labels=2)"
      ]
    },
    {
      "cell_type": "code",
      "execution_count": null,
      "metadata": {
        "id": "LOrrb4XTklRH"
      },
      "outputs": [],
      "source": [
        "# initialize the data collator for dynamic padding\n",
        "data_collator = DataCollatorWithPadding(tokenizer=tokenizer)"
      ]
    },
    {
      "cell_type": "code",
      "execution_count": null,
      "metadata": {
        "id": "GK-drPzOFDFP"
      },
      "outputs": [],
      "source": [
        "# define a function to compute accuracy and f1 score\n",
        "from datasets import load_metric\n",
        "accuracy_metric = load_metric(\"accuracy\")\n",
        "f1_metric = load_metric(\"f1\")\n",
        "\n",
        "from sklearn.metrics import recall_score\n",
        "\n",
        "def compute_metrics(eval_pred):\n",
        "    logits, labels = eval_pred\n",
        "    predictions = np.argmax(logits, axis=-1)\n",
        "    accuracy = accuracy_metric.compute(predictions=predictions, references=labels)[\"accuracy\"]\n",
        "    f1 = f1_metric.compute(predictions=predictions, references=labels)[\"f1\"]\n",
        "    # calculate recall\n",
        "    recall = recall_score(labels, predictions, average='binary')\n",
        "    return {\"accuracy\": accuracy, \"f1\": f1, \"recall\": recall}"
      ]
    },
    {
      "cell_type": "code",
      "execution_count": null,
      "metadata": {
        "id": "xCeWF6bDF3gr"
      },
      "outputs": [],
      "source": [
        "from transformers import TrainingArguments, Trainer, EarlyStoppingCallback\n",
        "\n",
        "# TrainingArguments with both learning rate scheduling and early stopping configurations\n",
        "training_args = TrainingArguments(\n",
        "    output_dir=\"/content/drive/My Drive/Colab Notebooks/TrainingResults\",\n",
        "    evaluation_strategy=\"steps\",  # evaluate every `eval_steps`\n",
        "    eval_steps=5000,  # evaluation happens every 500 steps\n",
        "    save_strategy=\"steps\",  # save happens every `eval_steps` to align with evaluation\n",
        "    save_steps=5000,  # align saving with evaluation frequency\n",
        "    learning_rate=2e-5,\n",
        "    lr_scheduler_type=\"reduce_lr_on_plateau\",  # learning rate scheduler\n",
        "    per_device_train_batch_size=8,\n",
        "    per_device_eval_batch_size=8,\n",
        "    num_train_epochs=3,\n",
        "    weight_decay=0.01,\n",
        "    save_total_limit=2,  # only keep the last 2 checkpoints\n",
        "    load_best_model_at_end=True,  # load the best model at the end of training\n",
        "    metric_for_best_model=\"accuracy\",  # metric to identify the best model\n",
        "    warmup_steps=500,  # warmup steps for the learning rate scheduler\n",
        ")\n",
        "\n",
        "# Trainer with EarlyStoppingCallback\n",
        "trainer = Trainer(\n",
        "    model=model,\n",
        "    args=training_args,\n",
        "    train_dataset=tokenized_datasets[\"train\"],\n",
        "    eval_dataset=tokenized_datasets[\"test\"],\n",
        "    tokenizer=tokenizer,\n",
        "    data_collator=data_collator,\n",
        "    compute_metrics=compute_metrics,\n",
        "    callbacks=[EarlyStoppingCallback(early_stopping_patience=3)]\n",
        ")"
      ]
    },
    {
      "cell_type": "code",
      "execution_count": null,
      "metadata": {
        "id": "rpJGjOCqHnYT"
      },
      "outputs": [],
      "source": [
        "# train the model\n",
        "trainer.train()"
      ]
    },
    {
      "cell_type": "code",
      "execution_count": null,
      "metadata": {
        "id": "vTWWO7V8Ho-1"
      },
      "outputs": [],
      "source": [
        "# evaluate the model\n",
        "trainer.evaluate()"
      ]
    },
    {
      "cell_type": "code",
      "execution_count": null,
      "metadata": {
        "id": "_BPBFvJrHsLU"
      },
      "outputs": [],
      "source": [
        "# save the model and tokenizer\n",
        "model.save_pretrained(\"/content/drive/My Drive/Colab Notebooks/SADistilBERTModel\")\n",
        "tokenizer.save_pretrained(\"/content/drive/My Drive/Colab Notebooks/SADistilBERTModel\")"
      ]
    },
    {
      "cell_type": "code",
      "execution_count": null,
      "metadata": {
        "id": "uVp5983iZQJm"
      },
      "outputs": [],
      "source": [
        "from transformers import AutoModelForSequenceClassification, AutoTokenizer, pipeline\n",
        "\n",
        "# mount Google Drive and use the correct path\n",
        "model_directory = \"/content/drive/My Drive/Colab Notebooks/SADistilBERTModel\"\n",
        "\n",
        "# load the model and tokenizer\n",
        "model = AutoModelForSequenceClassification.from_pretrained(model_directory)\n",
        "tokenizer = AutoTokenizer.from_pretrained(model_directory)\n",
        "\n",
        "# create a pipeline for sentiment analysis\n",
        "sentiment_pipeline = pipeline('sentiment-analysis', model=model, tokenizer=tokenizer)\n",
        "\n",
        "# example predictions\n",
        "results = sentiment_pipeline([\"Cool!\", \"I hate that!\"])\n",
        "\n",
        "# display the results\n",
        "for result in results:\n",
        "    print(f\"label: {result['label']}, with score: {round(result['score'], 4)}\")\n"
      ]
    },
    {
      "cell_type": "code",
      "source": [
        "from transformers import Trainer, TrainingArguments\n",
        "\n",
        "# set minimal training arguments for evaluation\n",
        "training_args = TrainingArguments(\n",
        "    output_dir=\"/content/drive/My Drive/Colab Notebooks/EvalOutput\",\n",
        "    per_device_eval_batch_size=8,\n",
        ")\n",
        "\n",
        "# initialize the trainer instance\n",
        "trainer = Trainer(\n",
        "    model=model,\n",
        "    args=training_args,\n",
        "    eval_dataset=tokenized_datasets[\"test\"],\n",
        "    tokenizer=tokenizer,\n",
        "    compute_metrics=compute_metrics,\n",
        ")\n",
        "\n",
        "# evaluate the model\n",
        "evaluation_results = trainer.evaluate()\n",
        "\n",
        "print(evaluation_results)\n"
      ],
      "metadata": {
        "id": "VUNVxTd780W5"
      },
      "execution_count": null,
      "outputs": []
    }
  ],
  "metadata": {
    "accelerator": "GPU",
    "colab": {
      "gpuType": "V100",
      "provenance": []
    },
    "kernelspec": {
      "display_name": "Python 3",
      "name": "python3"
    },
    "language_info": {
      "name": "python"
    }
  },
  "nbformat": 4,
  "nbformat_minor": 0
}